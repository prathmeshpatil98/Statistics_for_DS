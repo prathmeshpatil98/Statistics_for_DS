{
  "nbformat": 4,
  "nbformat_minor": 0,
  "metadata": {
    "colab": {
      "provenance": [],
      "authorship_tag": "ABX9TyPEHbSIZQjpqVzkzkBKu9U3",
      "include_colab_link": true
    },
    "kernelspec": {
      "name": "python3",
      "display_name": "Python 3"
    },
    "language_info": {
      "name": "python"
    }
  },
  "cells": [
    {
      "cell_type": "markdown",
      "metadata": {
        "id": "view-in-github",
        "colab_type": "text"
      },
      "source": [
        "<a href=\"https://colab.research.google.com/github/prathmeshpatil98/Statistics_for_DS/blob/main/Anova.ipynb\" target=\"_parent\"><img src=\"https://colab.research.google.com/assets/colab-badge.svg\" alt=\"Open In Colab\"/></a>"
      ]
    },
    {
      "cell_type": "code",
      "source": [
        "from scipy import stats\n"
      ],
      "metadata": {
        "id": "dAk5Cmsr18Lx"
      },
      "execution_count": 1,
      "outputs": []
    },
    {
      "cell_type": "code",
      "source": [
        "# Define the test scores for each group as Python lists\n",
        "group_A = [85, 78, 92, 88, 81]\n",
        "group_B = [94, 88, 96, 91, 85]\n",
        "group_C = [79, 84, 87, 83, 76]\n"
      ],
      "metadata": {
        "id": "hG2wFkZtVM0T"
      },
      "execution_count": 2,
      "outputs": []
    },
    {
      "cell_type": "code",
      "source": [
        "# one-way ANOVA\n",
        "f_statistic, p_value = stats.f_oneway(group_A, group_B, group_C)\n",
        "\n",
        "# significance level (alpha)\n",
        "alpha = 0.05"
      ],
      "metadata": {
        "id": "r6YTIWClVNtr"
      },
      "execution_count": 3,
      "outputs": []
    },
    {
      "cell_type": "code",
      "source": [
        "# Print the results\n",
        "print(\"F-Statistic:\", f_statistic)\n",
        "print(\"P-Value:\", p_value)"
      ],
      "metadata": {
        "colab": {
          "base_uri": "https://localhost:8080/"
        },
        "id": "4Q6LzPk6VcJ8",
        "outputId": "fca1b5e4-14cb-49ac-c578-fd3590a62c80"
      },
      "execution_count": 4,
      "outputs": [
        {
          "output_type": "stream",
          "name": "stdout",
          "text": [
            "F-Statistic: 4.558610709117222\n",
            "P-Value: 0.03367183887862677\n"
          ]
        }
      ]
    },
    {
      "cell_type": "code",
      "source": [
        "# Check if the p-value is less than alpha\n",
        "if p_value < alpha:\n",
        "    print(\"Reject the null hypothesis.\")\n",
        "else:\n",
        "    print(\"Accept the null hypothesis.\")"
      ],
      "metadata": {
        "colab": {
          "base_uri": "https://localhost:8080/"
        },
        "id": "lwdLFPImVfDs",
        "outputId": "210ee6a4-1029-416b-9c34-7aef2b240873"
      },
      "execution_count": 6,
      "outputs": [
        {
          "output_type": "stream",
          "name": "stdout",
          "text": [
            "Reject the null hypothesis.\n"
          ]
        }
      ]
    }
  ]
}